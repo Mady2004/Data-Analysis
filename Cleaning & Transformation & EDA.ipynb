{
 "cells": [
  {
   "cell_type": "markdown",
   "metadata": {},
   "source": [
    "Importing Libraries."
   ]
  },
  {
   "cell_type": "code",
   "execution_count": 124,
   "metadata": {},
   "outputs": [],
   "source": [
    "import numpy as np\n",
    "import pandas as pd\n",
    "import matplotlib.pyplot as plt\n",
    "import seaborn as sns"
   ]
  },
  {
   "cell_type": "markdown",
   "metadata": {},
   "source": [
    "Importing The Dataset."
   ]
  },
  {
   "cell_type": "code",
   "execution_count": 125,
   "metadata": {},
   "outputs": [],
   "source": [
    "Data = pd.read_csv(r\"C:\\Users\\Mady Ibrahim\\Desktop\\Mobile Dataset Analysis\\Mobiles Dataset (2025).csv\",encoding = \"latin1\")"
   ]
  },
  {
   "cell_type": "markdown",
   "metadata": {},
   "source": [
    "Cleaning & Transformation & EDA."
   ]
  },
  {
   "cell_type": "code",
   "execution_count": 126,
   "metadata": {},
   "outputs": [
    {
     "data": {
      "text/html": [
       "<div>\n",
       "<style scoped>\n",
       "    .dataframe tbody tr th:only-of-type {\n",
       "        vertical-align: middle;\n",
       "    }\n",
       "\n",
       "    .dataframe tbody tr th {\n",
       "        vertical-align: top;\n",
       "    }\n",
       "\n",
       "    .dataframe thead th {\n",
       "        text-align: right;\n",
       "    }\n",
       "</style>\n",
       "<table border=\"1\" class=\"dataframe\">\n",
       "  <thead>\n",
       "    <tr style=\"text-align: right;\">\n",
       "      <th></th>\n",
       "      <th>Company Name</th>\n",
       "      <th>Model Name</th>\n",
       "      <th>Mobile Weight</th>\n",
       "      <th>RAM</th>\n",
       "      <th>Front Camera</th>\n",
       "      <th>Back Camera</th>\n",
       "      <th>Processor</th>\n",
       "      <th>Battery Capacity</th>\n",
       "      <th>Screen Size</th>\n",
       "      <th>Launched Price (Pakistan)</th>\n",
       "      <th>Launched Price (India)</th>\n",
       "      <th>Launched Price (China)</th>\n",
       "      <th>Launched Price (USA)</th>\n",
       "      <th>Launched Price (Dubai)</th>\n",
       "      <th>Launched Year</th>\n",
       "    </tr>\n",
       "  </thead>\n",
       "  <tbody>\n",
       "    <tr>\n",
       "      <th>0</th>\n",
       "      <td>Apple</td>\n",
       "      <td>iPhone 16 128GB</td>\n",
       "      <td>174g</td>\n",
       "      <td>6GB</td>\n",
       "      <td>12MP</td>\n",
       "      <td>48MP</td>\n",
       "      <td>A17 Bionic</td>\n",
       "      <td>3,600mAh</td>\n",
       "      <td>6.1 inches</td>\n",
       "      <td>PKR 224,999</td>\n",
       "      <td>INR 79,999</td>\n",
       "      <td>CNY 5,799</td>\n",
       "      <td>USD 799</td>\n",
       "      <td>AED 2,799</td>\n",
       "      <td>2024</td>\n",
       "    </tr>\n",
       "    <tr>\n",
       "      <th>1</th>\n",
       "      <td>Apple</td>\n",
       "      <td>iPhone 16 256GB</td>\n",
       "      <td>174g</td>\n",
       "      <td>6GB</td>\n",
       "      <td>12MP</td>\n",
       "      <td>48MP</td>\n",
       "      <td>A17 Bionic</td>\n",
       "      <td>3,600mAh</td>\n",
       "      <td>6.1 inches</td>\n",
       "      <td>PKR 234,999</td>\n",
       "      <td>INR 84,999</td>\n",
       "      <td>CNY 6,099</td>\n",
       "      <td>USD 849</td>\n",
       "      <td>AED 2,999</td>\n",
       "      <td>2024</td>\n",
       "    </tr>\n",
       "    <tr>\n",
       "      <th>2</th>\n",
       "      <td>Apple</td>\n",
       "      <td>iPhone 16 512GB</td>\n",
       "      <td>174g</td>\n",
       "      <td>6GB</td>\n",
       "      <td>12MP</td>\n",
       "      <td>48MP</td>\n",
       "      <td>A17 Bionic</td>\n",
       "      <td>3,600mAh</td>\n",
       "      <td>6.1 inches</td>\n",
       "      <td>PKR 244,999</td>\n",
       "      <td>INR 89,999</td>\n",
       "      <td>CNY 6,499</td>\n",
       "      <td>USD 899</td>\n",
       "      <td>AED 3,199</td>\n",
       "      <td>2024</td>\n",
       "    </tr>\n",
       "  </tbody>\n",
       "</table>\n",
       "</div>"
      ],
      "text/plain": [
       "  Company Name       Model Name Mobile Weight  RAM Front Camera Back Camera  \\\n",
       "0        Apple  iPhone 16 128GB          174g  6GB         12MP        48MP   \n",
       "1        Apple  iPhone 16 256GB          174g  6GB         12MP        48MP   \n",
       "2        Apple  iPhone 16 512GB          174g  6GB         12MP        48MP   \n",
       "\n",
       "    Processor Battery Capacity Screen Size Launched Price (Pakistan)  \\\n",
       "0  A17 Bionic         3,600mAh  6.1 inches               PKR 224,999   \n",
       "1  A17 Bionic         3,600mAh  6.1 inches               PKR 234,999   \n",
       "2  A17 Bionic         3,600mAh  6.1 inches               PKR 244,999   \n",
       "\n",
       "  Launched Price (India) Launched Price (China) Launched Price (USA)  \\\n",
       "0             INR 79,999              CNY 5,799              USD 799   \n",
       "1             INR 84,999              CNY 6,099              USD 849   \n",
       "2             INR 89,999              CNY 6,499              USD 899   \n",
       "\n",
       "  Launched Price (Dubai)  Launched Year  \n",
       "0              AED 2,799           2024  \n",
       "1              AED 2,999           2024  \n",
       "2              AED 3,199           2024  "
      ]
     },
     "execution_count": 126,
     "metadata": {},
     "output_type": "execute_result"
    }
   ],
   "source": [
    "Data.head(3)"
   ]
  },
  {
   "cell_type": "code",
   "execution_count": 127,
   "metadata": {},
   "outputs": [
    {
     "name": "stdout",
     "output_type": "stream",
     "text": [
      "<class 'pandas.core.frame.DataFrame'>\n",
      "RangeIndex: 930 entries, 0 to 929\n",
      "Data columns (total 15 columns):\n",
      " #   Column                     Non-Null Count  Dtype \n",
      "---  ------                     --------------  ----- \n",
      " 0   Company Name               930 non-null    object\n",
      " 1   Model Name                 930 non-null    object\n",
      " 2   Mobile Weight              930 non-null    object\n",
      " 3   RAM                        930 non-null    object\n",
      " 4   Front Camera               930 non-null    object\n",
      " 5   Back Camera                930 non-null    object\n",
      " 6   Processor                  930 non-null    object\n",
      " 7   Battery Capacity           930 non-null    object\n",
      " 8   Screen Size                930 non-null    object\n",
      " 9   Launched Price (Pakistan)  930 non-null    object\n",
      " 10  Launched Price (India)     930 non-null    object\n",
      " 11  Launched Price (China)     930 non-null    object\n",
      " 12  Launched Price (USA)       930 non-null    object\n",
      " 13  Launched Price (Dubai)     930 non-null    object\n",
      " 14  Launched Year              930 non-null    int64 \n",
      "dtypes: int64(1), object(14)\n",
      "memory usage: 109.1+ KB\n"
     ]
    }
   ],
   "source": [
    "Data.info()"
   ]
  },
  {
   "cell_type": "code",
   "execution_count": 128,
   "metadata": {},
   "outputs": [
    {
     "data": {
      "text/plain": [
       "[347, 437, 438, 441, 442, 443, 445, 446, 447, 448, 449, 450, 451, 452, 798]"
      ]
     },
     "execution_count": 128,
     "metadata": {},
     "output_type": "execute_result"
    }
   ],
   "source": [
    "Duplicate_Indices = Data.index[Data.duplicated(keep = \"first\")]\n",
    "Duplicate_Indices.to_list()"
   ]
  },
  {
   "cell_type": "code",
   "execution_count": 129,
   "metadata": {},
   "outputs": [
    {
     "data": {
      "text/plain": [
       "np.int64(15)"
      ]
     },
     "execution_count": 129,
     "metadata": {},
     "output_type": "execute_result"
    }
   ],
   "source": [
    "Data.duplicated().sum()"
   ]
  },
  {
   "cell_type": "code",
   "execution_count": 130,
   "metadata": {},
   "outputs": [],
   "source": [
    "Data = Data.drop_duplicates()\n",
    "Data.reset_index(drop = True,inplace = True)"
   ]
  },
  {
   "cell_type": "code",
   "execution_count": 131,
   "metadata": {},
   "outputs": [
    {
     "data": {
      "text/plain": [
       "Company Name                 0\n",
       "Model Name                   0\n",
       "Mobile Weight                0\n",
       "RAM                          0\n",
       "Front Camera                 0\n",
       "Back Camera                  0\n",
       "Processor                    0\n",
       "Battery Capacity             0\n",
       "Screen Size                  0\n",
       "Launched Price (Pakistan)    0\n",
       "Launched Price (India)       0\n",
       "Launched Price (China)       0\n",
       "Launched Price (USA)         0\n",
       "Launched Price (Dubai)       0\n",
       "Launched Year                0\n",
       "dtype: int64"
      ]
     },
     "execution_count": 131,
     "metadata": {},
     "output_type": "execute_result"
    }
   ],
   "source": [
    "Data.isnull().sum()"
   ]
  },
  {
   "cell_type": "code",
   "execution_count": 132,
   "metadata": {},
   "outputs": [],
   "source": [
    "Data.rename(columns = {\n",
    "                    \"Company Name\" : \"Company_Name\",\n",
    "                    \"Model Name\" : \"Model_Name\",\n",
    "                    \"Mobile Weight\": \"Mobile_Weight_Grams\",\n",
    "                    \"RAM\" : \"RAM_GB\",\n",
    "                    \"Battery Capacity\" : \"Battery_Capacity_mAh\",\n",
    "                    \"Screen Size\" : \"Screen_Size_Inches\",\n",
    "                    \"Front Camera\" : \"Front_Camera\",\n",
    "                    \"Back Camera\" : \"Back_Camera\",\n",
    "                    \"Launched Price (Pakistan)\" : \"Launched_Price_PKR\",\n",
    "                    \"Launched Price (India)\" : \"Launched_Price_INR\",\n",
    "                    \"Launched Price (China)\" : \"Launched_Price_CNY\",\n",
    "                    \"Launched Price (USA)\" : \"Launched_Price_USD\",\n",
    "                    \"Launched Price (Dubai)\" : \"Launched_Price_AED\",\n",
    "                    \"Launched Year\" : \"Launched_Year\",\n",
    "                    },inplace = True)"
   ]
  },
  {
   "cell_type": "code",
   "execution_count": 133,
   "metadata": {},
   "outputs": [
    {
     "data": {
      "text/html": [
       "<div>\n",
       "<style scoped>\n",
       "    .dataframe tbody tr th:only-of-type {\n",
       "        vertical-align: middle;\n",
       "    }\n",
       "\n",
       "    .dataframe tbody tr th {\n",
       "        vertical-align: top;\n",
       "    }\n",
       "\n",
       "    .dataframe thead th {\n",
       "        text-align: right;\n",
       "    }\n",
       "</style>\n",
       "<table border=\"1\" class=\"dataframe\">\n",
       "  <thead>\n",
       "    <tr style=\"text-align: right;\">\n",
       "      <th></th>\n",
       "      <th>Company_Name</th>\n",
       "      <th>Model_Name</th>\n",
       "      <th>Mobile_Weight_Grams</th>\n",
       "      <th>RAM_GB</th>\n",
       "      <th>Front_Camera</th>\n",
       "      <th>Back_Camera</th>\n",
       "      <th>Processor</th>\n",
       "      <th>Battery_Capacity_mAh</th>\n",
       "      <th>Screen_Size_Inches</th>\n",
       "      <th>Launched_Price_PKR</th>\n",
       "      <th>Launched_Price_INR</th>\n",
       "      <th>Launched_Price_CNY</th>\n",
       "      <th>Launched_Price_USD</th>\n",
       "      <th>Launched_Price_AED</th>\n",
       "      <th>Launched_Year</th>\n",
       "    </tr>\n",
       "  </thead>\n",
       "  <tbody>\n",
       "    <tr>\n",
       "      <th>0</th>\n",
       "      <td>Apple</td>\n",
       "      <td>iPhone 16 128GB</td>\n",
       "      <td>174g</td>\n",
       "      <td>6GB</td>\n",
       "      <td>12MP</td>\n",
       "      <td>48MP</td>\n",
       "      <td>A17 Bionic</td>\n",
       "      <td>3,600mAh</td>\n",
       "      <td>6.1 inches</td>\n",
       "      <td>PKR 224,999</td>\n",
       "      <td>INR 79,999</td>\n",
       "      <td>CNY 5,799</td>\n",
       "      <td>USD 799</td>\n",
       "      <td>AED 2,799</td>\n",
       "      <td>2024</td>\n",
       "    </tr>\n",
       "    <tr>\n",
       "      <th>1</th>\n",
       "      <td>Apple</td>\n",
       "      <td>iPhone 16 256GB</td>\n",
       "      <td>174g</td>\n",
       "      <td>6GB</td>\n",
       "      <td>12MP</td>\n",
       "      <td>48MP</td>\n",
       "      <td>A17 Bionic</td>\n",
       "      <td>3,600mAh</td>\n",
       "      <td>6.1 inches</td>\n",
       "      <td>PKR 234,999</td>\n",
       "      <td>INR 84,999</td>\n",
       "      <td>CNY 6,099</td>\n",
       "      <td>USD 849</td>\n",
       "      <td>AED 2,999</td>\n",
       "      <td>2024</td>\n",
       "    </tr>\n",
       "    <tr>\n",
       "      <th>2</th>\n",
       "      <td>Apple</td>\n",
       "      <td>iPhone 16 512GB</td>\n",
       "      <td>174g</td>\n",
       "      <td>6GB</td>\n",
       "      <td>12MP</td>\n",
       "      <td>48MP</td>\n",
       "      <td>A17 Bionic</td>\n",
       "      <td>3,600mAh</td>\n",
       "      <td>6.1 inches</td>\n",
       "      <td>PKR 244,999</td>\n",
       "      <td>INR 89,999</td>\n",
       "      <td>CNY 6,499</td>\n",
       "      <td>USD 899</td>\n",
       "      <td>AED 3,199</td>\n",
       "      <td>2024</td>\n",
       "    </tr>\n",
       "  </tbody>\n",
       "</table>\n",
       "</div>"
      ],
      "text/plain": [
       "  Company_Name       Model_Name Mobile_Weight_Grams RAM_GB Front_Camera  \\\n",
       "0        Apple  iPhone 16 128GB                174g    6GB         12MP   \n",
       "1        Apple  iPhone 16 256GB                174g    6GB         12MP   \n",
       "2        Apple  iPhone 16 512GB                174g    6GB         12MP   \n",
       "\n",
       "  Back_Camera   Processor Battery_Capacity_mAh Screen_Size_Inches  \\\n",
       "0        48MP  A17 Bionic             3,600mAh         6.1 inches   \n",
       "1        48MP  A17 Bionic             3,600mAh         6.1 inches   \n",
       "2        48MP  A17 Bionic             3,600mAh         6.1 inches   \n",
       "\n",
       "  Launched_Price_PKR Launched_Price_INR Launched_Price_CNY Launched_Price_USD  \\\n",
       "0        PKR 224,999         INR 79,999          CNY 5,799            USD 799   \n",
       "1        PKR 234,999         INR 84,999          CNY 6,099            USD 849   \n",
       "2        PKR 244,999         INR 89,999          CNY 6,499            USD 899   \n",
       "\n",
       "  Launched_Price_AED  Launched_Year  \n",
       "0          AED 2,799           2024  \n",
       "1          AED 2,999           2024  \n",
       "2          AED 3,199           2024  "
      ]
     },
     "execution_count": 133,
     "metadata": {},
     "output_type": "execute_result"
    }
   ],
   "source": [
    "Data.head(3)"
   ]
  },
  {
   "cell_type": "code",
   "execution_count": 134,
   "metadata": {},
   "outputs": [],
   "source": [
    "import re\n",
    "for index, value in Data[\"Mobile_Weight_Grams\"].items():\n",
    "    if re.findall(\"g\", value):\n",
    "        Data.at[index, \"Mobile_Weight_Grams\"] = value.replace(\"g\", \"\")\n",
    "def Editing(CN,Value_To_Find):\n",
    "    for index, value in Data[CN].items():\n",
    "        if re.findall(Value_To_Find, value):\n",
    "            Data.at[index, CN] = value.replace(Value_To_Find, \"\")\n",
    "Editing(\"RAM_GB\",\"GB\")\n",
    "Editing(\"Battery_Capacity_mAh\",\"mAh\")\n",
    "Editing(\"Screen_Size_Inches\",\"inches\")\n",
    "Editing(\"Launched_Price_PKR\",\"PKR\")\n",
    "Editing(\"Launched_Price_INR\",\"INR\")\n",
    "Editing(\"Launched_Price_CNY\",\"CNY\")\n",
    "Editing(\"Launched_Price_CNY\",\"¥\")\n",
    "Editing(\"Launched_Price_USD\",\"USD\")\n",
    "Editing(\"Launched_Price_AED\",\"AED\")"
   ]
  },
  {
   "cell_type": "code",
   "execution_count": 135,
   "metadata": {},
   "outputs": [
    {
     "data": {
      "text/html": [
       "<div>\n",
       "<style scoped>\n",
       "    .dataframe tbody tr th:only-of-type {\n",
       "        vertical-align: middle;\n",
       "    }\n",
       "\n",
       "    .dataframe tbody tr th {\n",
       "        vertical-align: top;\n",
       "    }\n",
       "\n",
       "    .dataframe thead th {\n",
       "        text-align: right;\n",
       "    }\n",
       "</style>\n",
       "<table border=\"1\" class=\"dataframe\">\n",
       "  <thead>\n",
       "    <tr style=\"text-align: right;\">\n",
       "      <th></th>\n",
       "      <th>Company_Name</th>\n",
       "      <th>Model_Name</th>\n",
       "      <th>Mobile_Weight_Grams</th>\n",
       "      <th>RAM_GB</th>\n",
       "      <th>Front_Camera</th>\n",
       "      <th>Back_Camera</th>\n",
       "      <th>Processor</th>\n",
       "      <th>Battery_Capacity_mAh</th>\n",
       "      <th>Screen_Size_Inches</th>\n",
       "      <th>Launched_Price_PKR</th>\n",
       "      <th>Launched_Price_INR</th>\n",
       "      <th>Launched_Price_CNY</th>\n",
       "      <th>Launched_Price_USD</th>\n",
       "      <th>Launched_Price_AED</th>\n",
       "      <th>Launched_Year</th>\n",
       "    </tr>\n",
       "  </thead>\n",
       "  <tbody>\n",
       "    <tr>\n",
       "      <th>0</th>\n",
       "      <td>Apple</td>\n",
       "      <td>iPhone 16 128GB</td>\n",
       "      <td>174</td>\n",
       "      <td>6</td>\n",
       "      <td>12MP</td>\n",
       "      <td>48MP</td>\n",
       "      <td>A17 Bionic</td>\n",
       "      <td>3,600</td>\n",
       "      <td>6.1</td>\n",
       "      <td>224,999</td>\n",
       "      <td>79,999</td>\n",
       "      <td>5,799</td>\n",
       "      <td>799</td>\n",
       "      <td>2,799</td>\n",
       "      <td>2024</td>\n",
       "    </tr>\n",
       "    <tr>\n",
       "      <th>1</th>\n",
       "      <td>Apple</td>\n",
       "      <td>iPhone 16 256GB</td>\n",
       "      <td>174</td>\n",
       "      <td>6</td>\n",
       "      <td>12MP</td>\n",
       "      <td>48MP</td>\n",
       "      <td>A17 Bionic</td>\n",
       "      <td>3,600</td>\n",
       "      <td>6.1</td>\n",
       "      <td>234,999</td>\n",
       "      <td>84,999</td>\n",
       "      <td>6,099</td>\n",
       "      <td>849</td>\n",
       "      <td>2,999</td>\n",
       "      <td>2024</td>\n",
       "    </tr>\n",
       "    <tr>\n",
       "      <th>2</th>\n",
       "      <td>Apple</td>\n",
       "      <td>iPhone 16 512GB</td>\n",
       "      <td>174</td>\n",
       "      <td>6</td>\n",
       "      <td>12MP</td>\n",
       "      <td>48MP</td>\n",
       "      <td>A17 Bionic</td>\n",
       "      <td>3,600</td>\n",
       "      <td>6.1</td>\n",
       "      <td>244,999</td>\n",
       "      <td>89,999</td>\n",
       "      <td>6,499</td>\n",
       "      <td>899</td>\n",
       "      <td>3,199</td>\n",
       "      <td>2024</td>\n",
       "    </tr>\n",
       "  </tbody>\n",
       "</table>\n",
       "</div>"
      ],
      "text/plain": [
       "  Company_Name       Model_Name Mobile_Weight_Grams RAM_GB Front_Camera  \\\n",
       "0        Apple  iPhone 16 128GB                 174      6         12MP   \n",
       "1        Apple  iPhone 16 256GB                 174      6         12MP   \n",
       "2        Apple  iPhone 16 512GB                 174      6         12MP   \n",
       "\n",
       "  Back_Camera   Processor Battery_Capacity_mAh Screen_Size_Inches  \\\n",
       "0        48MP  A17 Bionic                3,600               6.1    \n",
       "1        48MP  A17 Bionic                3,600               6.1    \n",
       "2        48MP  A17 Bionic                3,600               6.1    \n",
       "\n",
       "  Launched_Price_PKR Launched_Price_INR Launched_Price_CNY Launched_Price_USD  \\\n",
       "0            224,999             79,999              5,799                799   \n",
       "1            234,999             84,999              6,099                849   \n",
       "2            244,999             89,999              6,499                899   \n",
       "\n",
       "  Launched_Price_AED  Launched_Year  \n",
       "0              2,799           2024  \n",
       "1              2,999           2024  \n",
       "2              3,199           2024  "
      ]
     },
     "execution_count": 135,
     "metadata": {},
     "output_type": "execute_result"
    }
   ],
   "source": [
    "Data.head(3)"
   ]
  },
  {
   "cell_type": "code",
   "execution_count": 136,
   "metadata": {},
   "outputs": [
    {
     "name": "stdout",
     "output_type": "stream",
     "text": [
      "<class 'pandas.core.frame.DataFrame'>\n",
      "RangeIndex: 915 entries, 0 to 914\n",
      "Data columns (total 15 columns):\n",
      " #   Column                Non-Null Count  Dtype \n",
      "---  ------                --------------  ----- \n",
      " 0   Company_Name          915 non-null    object\n",
      " 1   Model_Name            915 non-null    object\n",
      " 2   Mobile_Weight_Grams   915 non-null    object\n",
      " 3   RAM_GB                915 non-null    object\n",
      " 4   Front_Camera          915 non-null    object\n",
      " 5   Back_Camera           915 non-null    object\n",
      " 6   Processor             915 non-null    object\n",
      " 7   Battery_Capacity_mAh  915 non-null    object\n",
      " 8   Screen_Size_Inches    915 non-null    object\n",
      " 9   Launched_Price_PKR    915 non-null    object\n",
      " 10  Launched_Price_INR    915 non-null    object\n",
      " 11  Launched_Price_CNY    915 non-null    object\n",
      " 12  Launched_Price_USD    915 non-null    object\n",
      " 13  Launched_Price_AED    915 non-null    object\n",
      " 14  Launched_Year         915 non-null    int64 \n",
      "dtypes: int64(1), object(14)\n",
      "memory usage: 107.4+ KB\n"
     ]
    }
   ],
   "source": [
    "Data.info()"
   ]
  },
  {
   "cell_type": "code",
   "execution_count": 137,
   "metadata": {},
   "outputs": [
    {
     "data": {
      "text/plain": [
       "Company_Name            0\n",
       "Model_Name              0\n",
       "Mobile_Weight_Grams     0\n",
       "RAM_GB                  0\n",
       "Front_Camera            0\n",
       "Back_Camera             0\n",
       "Processor               0\n",
       "Battery_Capacity_mAh    0\n",
       "Screen_Size_Inches      0\n",
       "Launched_Price_PKR      0\n",
       "Launched_Price_INR      0\n",
       "Launched_Price_CNY      0\n",
       "Launched_Price_USD      0\n",
       "Launched_Price_AED      0\n",
       "Launched_Year           0\n",
       "dtype: int64"
      ]
     },
     "execution_count": 137,
     "metadata": {},
     "output_type": "execute_result"
    }
   ],
   "source": [
    "Data[\"Battery_Capacity_mAh\"] = Data[\"Battery_Capacity_mAh\"].str.replace(\"[^\\d.]\", \"\", regex = True)\n",
    "Data[\"RAM_GB\"] = Data[\"RAM_GB\"].str.replace(\"[^\\d.]\", \"\", regex = True)\n",
    "Data[\"Mobile_Weight_Grams\"] = Data[\"Mobile_Weight_Grams\"].str.replace(\"[^\\d.]\", \"\", regex = True)\n",
    "Data[\"Launched_Price_PKR\"] = Data[\"Launched_Price_PKR\"].str.replace(\"[^\\d.]\", \"\", regex = True)\n",
    "Data[\"Launched_Price_INR\"] = Data[\"Launched_Price_INR\"].str.replace(\"[^\\d.]\", \"\", regex = True)\n",
    "Data[\"Launched_Price_CNY\"] = Data[\"Launched_Price_CNY\"].str.replace(\"[^\\d.]\", \"\", regex = True)\n",
    "Data[\"Launched_Price_USD\"] = Data[\"Launched_Price_USD\"].str.replace(\"[^\\d.]\", \"\", regex = True)\n",
    "Data[\"Launched_Price_AED\"] = Data[\"Launched_Price_AED\"].str.replace(\"[^\\d.]\", \"\", regex = True)\n",
    "Data.isnull().sum()"
   ]
  },
  {
   "cell_type": "code",
   "execution_count": 138,
   "metadata": {},
   "outputs": [
    {
     "data": {
      "text/plain": [
       "Company_Name            0\n",
       "Model_Name              0\n",
       "Mobile_Weight_Grams     0\n",
       "RAM_GB                  0\n",
       "Front_Camera            0\n",
       "Back_Camera             0\n",
       "Processor               0\n",
       "Battery_Capacity_mAh    0\n",
       "Screen_Size_Inches      0\n",
       "Launched_Price_PKR      1\n",
       "Launched_Price_INR      0\n",
       "Launched_Price_CNY      0\n",
       "Launched_Price_USD      0\n",
       "Launched_Price_AED      0\n",
       "Launched_Year           0\n",
       "dtype: int64"
      ]
     },
     "execution_count": 138,
     "metadata": {},
     "output_type": "execute_result"
    }
   ],
   "source": [
    "Data[\"Launched_Price_PKR\"] = pd.to_numeric(Data[\"Launched_Price_PKR\"], errors = \"coerce\").astype(\"float\", errors = \"ignore\")\n",
    "Data[\"Launched_Price_INR\"] = pd.to_numeric(Data[\"Launched_Price_INR\"], errors = \"coerce\").astype(\"float\", errors = \"ignore\")\n",
    "Data[\"Launched_Price_CNY\"] = pd.to_numeric(Data[\"Launched_Price_CNY\"], errors = \"coerce\").astype(\"float\", errors = \"ignore\")\n",
    "Data[\"Launched_Price_USD\"] = pd.to_numeric(Data[\"Launched_Price_USD\"], errors = \"coerce\").astype(\"float\", errors = \"ignore\")\n",
    "Data[\"Launched_Price_AED\"] = pd.to_numeric(Data[\"Launched_Price_AED\"], errors = \"coerce\").astype(\"float\", errors = \"ignore\")\n",
    "Data[\"Battery_Capacity_mAh\"] = pd.to_numeric(Data[\"Battery_Capacity_mAh\"], errors = \"coerce\").astype(\"int\", errors = \"ignore\")\n",
    "Data[\"Mobile_Weight_Grams\"] = pd.to_numeric(Data[\"Mobile_Weight_Grams\"], errors = \"coerce\").astype(\"int\", errors = \"ignore\")\n",
    "Data[\"RAM_GB\"] = pd.to_numeric(Data[\"RAM_GB\"], errors = \"coerce\").astype(\"int\", errors = \"ignore\")\n",
    "Data.isnull().sum()"
   ]
  },
  {
   "cell_type": "code",
   "execution_count": 139,
   "metadata": {},
   "outputs": [
    {
     "data": {
      "text/html": [
       "<div>\n",
       "<style scoped>\n",
       "    .dataframe tbody tr th:only-of-type {\n",
       "        vertical-align: middle;\n",
       "    }\n",
       "\n",
       "    .dataframe tbody tr th {\n",
       "        vertical-align: top;\n",
       "    }\n",
       "\n",
       "    .dataframe thead th {\n",
       "        text-align: right;\n",
       "    }\n",
       "</style>\n",
       "<table border=\"1\" class=\"dataframe\">\n",
       "  <thead>\n",
       "    <tr style=\"text-align: right;\">\n",
       "      <th></th>\n",
       "      <th>Company_Name</th>\n",
       "      <th>Model_Name</th>\n",
       "      <th>Mobile_Weight_Grams</th>\n",
       "      <th>RAM_GB</th>\n",
       "      <th>Front_Camera</th>\n",
       "      <th>Back_Camera</th>\n",
       "      <th>Processor</th>\n",
       "      <th>Battery_Capacity_mAh</th>\n",
       "      <th>Screen_Size_Inches</th>\n",
       "      <th>Launched_Price_PKR</th>\n",
       "      <th>Launched_Price_INR</th>\n",
       "      <th>Launched_Price_CNY</th>\n",
       "      <th>Launched_Price_USD</th>\n",
       "      <th>Launched_Price_AED</th>\n",
       "      <th>Launched_Year</th>\n",
       "    </tr>\n",
       "  </thead>\n",
       "  <tbody>\n",
       "    <tr>\n",
       "      <th>914</th>\n",
       "      <td>Samsung</td>\n",
       "      <td>Galaxy Z Fold6 1TB</td>\n",
       "      <td>239</td>\n",
       "      <td>12</td>\n",
       "      <td>10MP, 4MP (UDC)</td>\n",
       "      <td>50MP</td>\n",
       "      <td>Snapdragon 8 Gen 3</td>\n",
       "      <td>4400</td>\n",
       "      <td>7.6</td>\n",
       "      <td>NaN</td>\n",
       "      <td>200999.0</td>\n",
       "      <td>17999.0</td>\n",
       "      <td>2259.0</td>\n",
       "      <td>8699.0</td>\n",
       "      <td>2024</td>\n",
       "    </tr>\n",
       "  </tbody>\n",
       "</table>\n",
       "</div>"
      ],
      "text/plain": [
       "    Company_Name          Model_Name  Mobile_Weight_Grams  RAM_GB  \\\n",
       "914      Samsung  Galaxy Z Fold6 1TB                  239      12   \n",
       "\n",
       "        Front_Camera Back_Camera           Processor  Battery_Capacity_mAh  \\\n",
       "914  10MP, 4MP (UDC)        50MP  Snapdragon 8 Gen 3                  4400   \n",
       "\n",
       "    Screen_Size_Inches  Launched_Price_PKR  Launched_Price_INR  \\\n",
       "914               7.6                  NaN            200999.0   \n",
       "\n",
       "     Launched_Price_CNY  Launched_Price_USD  Launched_Price_AED  Launched_Year  \n",
       "914             17999.0              2259.0              8699.0           2024  "
      ]
     },
     "execution_count": 139,
     "metadata": {},
     "output_type": "execute_result"
    }
   ],
   "source": [
    "Data[Data.isnull().any(axis = 1)]"
   ]
  },
  {
   "cell_type": "code",
   "execution_count": 140,
   "metadata": {},
   "outputs": [],
   "source": [
    "pd.options.display.max_rows = 600\n",
    "Data = Data.sort_values(by = \"Company_Name\")\n",
    "Data = Data.reset_index(drop = True)"
   ]
  },
  {
   "cell_type": "code",
   "execution_count": 141,
   "metadata": {},
   "outputs": [],
   "source": [
    "Data[Data.isnull().any(axis = 1)]\n",
    "Data[\"Launched_Price_PKR\"] = Data[\"Launched_Price_PKR\"].fillna(650000)"
   ]
  },
  {
   "cell_type": "code",
   "execution_count": 142,
   "metadata": {},
   "outputs": [],
   "source": [
    "Data[\"Launched_Price_in_Pakistan_USD\"] = Data[\"Launched_Price_PKR\"] * 0.0036\n",
    "Data[\"Launched_Price_in_India_USD\"] = Data[\"Launched_Price_INR\"] * 0.012\n",
    "Data[\"Launched_Price_in_China_USD\"] = Data[\"Launched_Price_CNY\"] * 0.15\n",
    "Data[\"Launched_Price_in_Dubai_USD\"] = Data[\"Launched_Price_AED\"] * 0.27"
   ]
  },
  {
   "cell_type": "code",
   "execution_count": 143,
   "metadata": {},
   "outputs": [],
   "source": [
    "Data.drop(columns = [\"Launched_Price_PKR\",\"Launched_Price_INR\",\"Launched_Price_CNY\",\"Launched_Price_AED\"]\n",
    "        ,axis = 1\n",
    "        ,inplace = True)"
   ]
  },
  {
   "cell_type": "code",
   "execution_count": 144,
   "metadata": {},
   "outputs": [],
   "source": [
    "Data[\"Launched_Price_in_USA_USD\"] = Data[\"Launched_Price_USD\"]"
   ]
  },
  {
   "cell_type": "code",
   "execution_count": 145,
   "metadata": {},
   "outputs": [],
   "source": [
    "Data.drop(columns = [\"Launched_Price_USD\"],axis = 1,inplace = True)"
   ]
  },
  {
   "cell_type": "code",
   "execution_count": 146,
   "metadata": {},
   "outputs": [
    {
     "data": {
      "text/html": [
       "<div>\n",
       "<style scoped>\n",
       "    .dataframe tbody tr th:only-of-type {\n",
       "        vertical-align: middle;\n",
       "    }\n",
       "\n",
       "    .dataframe tbody tr th {\n",
       "        vertical-align: top;\n",
       "    }\n",
       "\n",
       "    .dataframe thead th {\n",
       "        text-align: right;\n",
       "    }\n",
       "</style>\n",
       "<table border=\"1\" class=\"dataframe\">\n",
       "  <thead>\n",
       "    <tr style=\"text-align: right;\">\n",
       "      <th></th>\n",
       "      <th>Company_Name</th>\n",
       "      <th>Model_Name</th>\n",
       "      <th>Mobile_Weight_Grams</th>\n",
       "      <th>RAM_GB</th>\n",
       "      <th>Front_Camera</th>\n",
       "      <th>Back_Camera</th>\n",
       "      <th>Processor</th>\n",
       "      <th>Battery_Capacity_mAh</th>\n",
       "      <th>Screen_Size_Inches</th>\n",
       "      <th>Launched_Year</th>\n",
       "      <th>Launched_Price_in_Pakistan_USD</th>\n",
       "      <th>Launched_Price_in_India_USD</th>\n",
       "      <th>Launched_Price_in_China_USD</th>\n",
       "      <th>Launched_Price_in_Dubai_USD</th>\n",
       "      <th>Launched_Price_in_USA_USD</th>\n",
       "    </tr>\n",
       "  </thead>\n",
       "  <tbody>\n",
       "    <tr>\n",
       "      <th>0</th>\n",
       "      <td>Apple</td>\n",
       "      <td>iPhone 16 128GB</td>\n",
       "      <td>174</td>\n",
       "      <td>6</td>\n",
       "      <td>12MP</td>\n",
       "      <td>48MP</td>\n",
       "      <td>A17 Bionic</td>\n",
       "      <td>3600</td>\n",
       "      <td>6.1</td>\n",
       "      <td>2024</td>\n",
       "      <td>809.9964</td>\n",
       "      <td>959.988</td>\n",
       "      <td>869.85</td>\n",
       "      <td>755.73</td>\n",
       "      <td>799.0</td>\n",
       "    </tr>\n",
       "    <tr>\n",
       "      <th>1</th>\n",
       "      <td>Apple</td>\n",
       "      <td>iPhone X 256GB</td>\n",
       "      <td>174</td>\n",
       "      <td>3</td>\n",
       "      <td>7MP</td>\n",
       "      <td>12MP + 12MP</td>\n",
       "      <td>A11 Bionic</td>\n",
       "      <td>2716</td>\n",
       "      <td>5.8</td>\n",
       "      <td>2017</td>\n",
       "      <td>665.9964</td>\n",
       "      <td>1198.800</td>\n",
       "      <td>1318.20</td>\n",
       "      <td>1133.73</td>\n",
       "      <td>1099.0</td>\n",
       "    </tr>\n",
       "    <tr>\n",
       "      <th>2</th>\n",
       "      <td>Apple</td>\n",
       "      <td>iPhone X 64GB</td>\n",
       "      <td>174</td>\n",
       "      <td>3</td>\n",
       "      <td>7MP</td>\n",
       "      <td>12MP + 12MP</td>\n",
       "      <td>A11 Bionic</td>\n",
       "      <td>2716</td>\n",
       "      <td>5.8</td>\n",
       "      <td>2017</td>\n",
       "      <td>593.9964</td>\n",
       "      <td>1078.800</td>\n",
       "      <td>1258.20</td>\n",
       "      <td>1025.73</td>\n",
       "      <td>999.0</td>\n",
       "    </tr>\n",
       "  </tbody>\n",
       "</table>\n",
       "</div>"
      ],
      "text/plain": [
       "  Company_Name       Model_Name  Mobile_Weight_Grams  RAM_GB Front_Camera  \\\n",
       "0        Apple  iPhone 16 128GB                  174       6         12MP   \n",
       "1        Apple   iPhone X 256GB                  174       3          7MP   \n",
       "2        Apple    iPhone X 64GB                  174       3          7MP   \n",
       "\n",
       "   Back_Camera   Processor  Battery_Capacity_mAh Screen_Size_Inches  \\\n",
       "0         48MP  A17 Bionic                  3600               6.1    \n",
       "1  12MP + 12MP  A11 Bionic                  2716               5.8    \n",
       "2  12MP + 12MP  A11 Bionic                  2716               5.8    \n",
       "\n",
       "   Launched_Year  Launched_Price_in_Pakistan_USD  Launched_Price_in_India_USD  \\\n",
       "0           2024                        809.9964                      959.988   \n",
       "1           2017                        665.9964                     1198.800   \n",
       "2           2017                        593.9964                     1078.800   \n",
       "\n",
       "   Launched_Price_in_China_USD  Launched_Price_in_Dubai_USD  \\\n",
       "0                       869.85                       755.73   \n",
       "1                      1318.20                      1133.73   \n",
       "2                      1258.20                      1025.73   \n",
       "\n",
       "   Launched_Price_in_USA_USD  \n",
       "0                      799.0  \n",
       "1                     1099.0  \n",
       "2                      999.0  "
      ]
     },
     "execution_count": 146,
     "metadata": {},
     "output_type": "execute_result"
    }
   ],
   "source": [
    "Data.head(3)"
   ]
  },
  {
   "cell_type": "code",
   "execution_count": 147,
   "metadata": {},
   "outputs": [],
   "source": [
    "Last = Data.pop(\"Launched_Year\")\n",
    "Data[\"Launched_Year\"] = Last"
   ]
  },
  {
   "cell_type": "code",
   "execution_count": 148,
   "metadata": {},
   "outputs": [
    {
     "data": {
      "text/html": [
       "<div>\n",
       "<style scoped>\n",
       "    .dataframe tbody tr th:only-of-type {\n",
       "        vertical-align: middle;\n",
       "    }\n",
       "\n",
       "    .dataframe tbody tr th {\n",
       "        vertical-align: top;\n",
       "    }\n",
       "\n",
       "    .dataframe thead th {\n",
       "        text-align: right;\n",
       "    }\n",
       "</style>\n",
       "<table border=\"1\" class=\"dataframe\">\n",
       "  <thead>\n",
       "    <tr style=\"text-align: right;\">\n",
       "      <th></th>\n",
       "      <th>Company_Name</th>\n",
       "      <th>Model_Name</th>\n",
       "      <th>Mobile_Weight_Grams</th>\n",
       "      <th>RAM_GB</th>\n",
       "      <th>Front_Camera</th>\n",
       "      <th>Back_Camera</th>\n",
       "      <th>Processor</th>\n",
       "      <th>Battery_Capacity_mAh</th>\n",
       "      <th>Screen_Size_Inches</th>\n",
       "      <th>Launched_Price_in_Pakistan_USD</th>\n",
       "      <th>Launched_Price_in_India_USD</th>\n",
       "      <th>Launched_Price_in_China_USD</th>\n",
       "      <th>Launched_Price_in_Dubai_USD</th>\n",
       "      <th>Launched_Price_in_USA_USD</th>\n",
       "      <th>Launched_Year</th>\n",
       "    </tr>\n",
       "  </thead>\n",
       "  <tbody>\n",
       "    <tr>\n",
       "      <th>0</th>\n",
       "      <td>Apple</td>\n",
       "      <td>iPhone 16 128GB</td>\n",
       "      <td>174</td>\n",
       "      <td>6</td>\n",
       "      <td>12MP</td>\n",
       "      <td>48MP</td>\n",
       "      <td>A17 Bionic</td>\n",
       "      <td>3600</td>\n",
       "      <td>6.1</td>\n",
       "      <td>809.9964</td>\n",
       "      <td>959.988</td>\n",
       "      <td>869.85</td>\n",
       "      <td>755.73</td>\n",
       "      <td>799.0</td>\n",
       "      <td>2024</td>\n",
       "    </tr>\n",
       "    <tr>\n",
       "      <th>1</th>\n",
       "      <td>Apple</td>\n",
       "      <td>iPhone X 256GB</td>\n",
       "      <td>174</td>\n",
       "      <td>3</td>\n",
       "      <td>7MP</td>\n",
       "      <td>12MP + 12MP</td>\n",
       "      <td>A11 Bionic</td>\n",
       "      <td>2716</td>\n",
       "      <td>5.8</td>\n",
       "      <td>665.9964</td>\n",
       "      <td>1198.800</td>\n",
       "      <td>1318.20</td>\n",
       "      <td>1133.73</td>\n",
       "      <td>1099.0</td>\n",
       "      <td>2017</td>\n",
       "    </tr>\n",
       "    <tr>\n",
       "      <th>2</th>\n",
       "      <td>Apple</td>\n",
       "      <td>iPhone X 64GB</td>\n",
       "      <td>174</td>\n",
       "      <td>3</td>\n",
       "      <td>7MP</td>\n",
       "      <td>12MP + 12MP</td>\n",
       "      <td>A11 Bionic</td>\n",
       "      <td>2716</td>\n",
       "      <td>5.8</td>\n",
       "      <td>593.9964</td>\n",
       "      <td>1078.800</td>\n",
       "      <td>1258.20</td>\n",
       "      <td>1025.73</td>\n",
       "      <td>999.0</td>\n",
       "      <td>2017</td>\n",
       "    </tr>\n",
       "  </tbody>\n",
       "</table>\n",
       "</div>"
      ],
      "text/plain": [
       "  Company_Name       Model_Name  Mobile_Weight_Grams  RAM_GB Front_Camera  \\\n",
       "0        Apple  iPhone 16 128GB                  174       6         12MP   \n",
       "1        Apple   iPhone X 256GB                  174       3          7MP   \n",
       "2        Apple    iPhone X 64GB                  174       3          7MP   \n",
       "\n",
       "   Back_Camera   Processor  Battery_Capacity_mAh Screen_Size_Inches  \\\n",
       "0         48MP  A17 Bionic                  3600               6.1    \n",
       "1  12MP + 12MP  A11 Bionic                  2716               5.8    \n",
       "2  12MP + 12MP  A11 Bionic                  2716               5.8    \n",
       "\n",
       "   Launched_Price_in_Pakistan_USD  Launched_Price_in_India_USD  \\\n",
       "0                        809.9964                      959.988   \n",
       "1                        665.9964                     1198.800   \n",
       "2                        593.9964                     1078.800   \n",
       "\n",
       "   Launched_Price_in_China_USD  Launched_Price_in_Dubai_USD  \\\n",
       "0                       869.85                       755.73   \n",
       "1                      1318.20                      1133.73   \n",
       "2                      1258.20                      1025.73   \n",
       "\n",
       "   Launched_Price_in_USA_USD  Launched_Year  \n",
       "0                      799.0           2024  \n",
       "1                     1099.0           2017  \n",
       "2                      999.0           2017  "
      ]
     },
     "execution_count": 148,
     "metadata": {},
     "output_type": "execute_result"
    }
   ],
   "source": [
    "Data.head(3)"
   ]
  },
  {
   "cell_type": "code",
   "execution_count": 149,
   "metadata": {},
   "outputs": [
    {
     "name": "stdout",
     "output_type": "stream",
     "text": [
      "<class 'pandas.core.frame.DataFrame'>\n",
      "RangeIndex: 915 entries, 0 to 914\n",
      "Data columns (total 15 columns):\n",
      " #   Column                          Non-Null Count  Dtype  \n",
      "---  ------                          --------------  -----  \n",
      " 0   Company_Name                    915 non-null    object \n",
      " 1   Model_Name                      915 non-null    object \n",
      " 2   Mobile_Weight_Grams             915 non-null    int64  \n",
      " 3   RAM_GB                          915 non-null    int64  \n",
      " 4   Front_Camera                    915 non-null    object \n",
      " 5   Back_Camera                     915 non-null    object \n",
      " 6   Processor                       915 non-null    object \n",
      " 7   Battery_Capacity_mAh            915 non-null    int64  \n",
      " 8   Screen_Size_Inches              915 non-null    object \n",
      " 9   Launched_Price_in_Pakistan_USD  915 non-null    float64\n",
      " 10  Launched_Price_in_India_USD     915 non-null    float64\n",
      " 11  Launched_Price_in_China_USD     915 non-null    float64\n",
      " 12  Launched_Price_in_Dubai_USD     915 non-null    float64\n",
      " 13  Launched_Price_in_USA_USD       915 non-null    float64\n",
      " 14  Launched_Year                   915 non-null    int64  \n",
      "dtypes: float64(5), int64(4), object(6)\n",
      "memory usage: 107.4+ KB\n"
     ]
    }
   ],
   "source": [
    "Data.info()"
   ]
  },
  {
   "cell_type": "code",
   "execution_count": 150,
   "metadata": {},
   "outputs": [],
   "source": [
    "Data[\"Launched_Price_in_Pakistan_USD\"] = Data[\"Launched_Price_in_Pakistan_USD\"].astype(int)\n",
    "Data[\"Launched_Price_in_India_USD\"] = Data[\"Launched_Price_in_India_USD\"].astype(int)\n",
    "Data[\"Launched_Price_in_China_USD\"] = Data[\"Launched_Price_in_China_USD\"].astype(int)\n",
    "Data[\"Launched_Price_in_Dubai_USD\"] = Data[\"Launched_Price_in_Dubai_USD\"].astype(int)\n",
    "Data[\"Launched_Price_in_USA_USD\"] = Data[\"Launched_Price_in_USA_USD\"].astype(int)"
   ]
  },
  {
   "cell_type": "code",
   "execution_count": 151,
   "metadata": {},
   "outputs": [],
   "source": [
    "Data[\"Company_Name\"] = Data[\"Company_Name\"].replace({\"Poco\" : \"POCO\"})"
   ]
  },
  {
   "cell_type": "code",
   "execution_count": 152,
   "metadata": {},
   "outputs": [
    {
     "name": "stdout",
     "output_type": "stream",
     "text": [
      "<class 'pandas.core.frame.DataFrame'>\n",
      "RangeIndex: 915 entries, 0 to 914\n",
      "Data columns (total 15 columns):\n",
      " #   Column                          Non-Null Count  Dtype \n",
      "---  ------                          --------------  ----- \n",
      " 0   Company_Name                    915 non-null    object\n",
      " 1   Model_Name                      915 non-null    object\n",
      " 2   Mobile_Weight_Grams             915 non-null    int64 \n",
      " 3   RAM_GB                          915 non-null    int64 \n",
      " 4   Front_Camera                    915 non-null    object\n",
      " 5   Back_Camera                     915 non-null    object\n",
      " 6   Processor                       915 non-null    object\n",
      " 7   Battery_Capacity_mAh            915 non-null    int64 \n",
      " 8   Screen_Size_Inches              915 non-null    object\n",
      " 9   Launched_Price_in_Pakistan_USD  915 non-null    int64 \n",
      " 10  Launched_Price_in_India_USD     915 non-null    int64 \n",
      " 11  Launched_Price_in_China_USD     915 non-null    int64 \n",
      " 12  Launched_Price_in_Dubai_USD     915 non-null    int64 \n",
      " 13  Launched_Price_in_USA_USD       915 non-null    int64 \n",
      " 14  Launched_Year                   915 non-null    int64 \n",
      "dtypes: int64(9), object(6)\n",
      "memory usage: 107.4+ KB\n"
     ]
    }
   ],
   "source": [
    "Data.info()"
   ]
  },
  {
   "cell_type": "code",
   "execution_count": 153,
   "metadata": {},
   "outputs": [
    {
     "data": {
      "image/png": "[encoded data removed]",
      "text/plain": [
       "<Figure size 1100x1100 with 2 Axes>"
      ]
     },
     "metadata": {},
     "output_type": "display_data"
    }
   ],
   "source": [
    "from sklearn.preprocessing import LabelEncoder\n",
    "Encoder = LabelEncoder()\n",
    "Data[\"Encoded_Processor\"] = Encoder.fit_transform(Data[\"Processor\"])\n",
    "Data[\"Encoded_FC\"] = Encoder.fit_transform(Data[\"Front_Camera\"])\n",
    "Data[\"Encoded _BC\"] = Encoder.fit_transform(Data[\"Back_Camera\"])\n",
    "Data[\"Encoded_Screen_Size\"] = Encoder.fit_transform(Data[\"Screen_Size_Inches\"])\n",
    "plt.figure(figsize = (11,11))\n",
    "sns.heatmap(Data.select_dtypes(exclude = np.object_).corr(),annot = True)\n",
    "plt.show()"
   ]
  },
  {
   "cell_type": "code",
   "execution_count": 154,
   "metadata": {},
   "outputs": [
    {
     "data": {
      "image/png": "[encoded data removed]",
      "text/plain": [
       "<Figure size 640x480 with 1 Axes>"
      ]
     },
     "metadata": {},
     "output_type": "display_data"
    }
   ],
   "source": [
    "sns.boxplot(Data[\"Launched_Price_in_USA_USD\"])\n",
    "plt.show()"
   ]
  },
  {
   "cell_type": "code",
   "execution_count": 155,
   "metadata": {},
   "outputs": [
    {
     "data": {
      "text/html": [
       "<div>\n",
       "<style scoped>\n",
       "    .dataframe tbody tr th:only-of-type {\n",
       "        vertical-align: middle;\n",
       "    }\n",
       "\n",
       "    .dataframe tbody tr th {\n",
       "        vertical-align: top;\n",
       "    }\n",
       "\n",
       "    .dataframe thead th {\n",
       "        text-align: right;\n",
       "    }\n",
       "</style>\n",
       "<table border=\"1\" class=\"dataframe\">\n",
       "  <thead>\n",
       "    <tr style=\"text-align: right;\">\n",
       "      <th></th>\n",
       "      <th>Company_Name</th>\n",
       "      <th>Model_Name</th>\n",
       "      <th>Launched_Price_in_USA_USD</th>\n",
       "    </tr>\n",
       "  </thead>\n",
       "  <tbody>\n",
       "    <tr>\n",
       "      <th>391</th>\n",
       "      <td>Nokia</td>\n",
       "      <td>T21</td>\n",
       "      <td>39622</td>\n",
       "    </tr>\n",
       "  </tbody>\n",
       "</table>\n",
       "</div>"
      ],
      "text/plain": [
       "    Company_Name Model_Name  Launched_Price_in_USA_USD\n",
       "391        Nokia        T21                      39622"
      ]
     },
     "execution_count": 155,
     "metadata": {},
     "output_type": "execute_result"
    }
   ],
   "source": [
    "Data.loc[Data[\"Launched_Price_in_USA_USD\"] > 36000,[\"Company_Name\",\"Model_Name\",\"Launched_Price_in_USA_USD\"]].head(30)"
   ]
  },
  {
   "cell_type": "code",
   "execution_count": 156,
   "metadata": {},
   "outputs": [],
   "source": [
    "Data.loc[391,\"Launched_Price_in_USA_USD\"] = 240 # Real Price."
   ]
  },
  {
   "cell_type": "code",
   "execution_count": 157,
   "metadata": {},
   "outputs": [
    {
     "data": {
      "text/plain": [
       "Company_Name                            Nokia\n",
       "Model_Name                                T21\n",
       "Mobile_Weight_Grams                       466\n",
       "RAM_GB                                      4\n",
       "Front_Camera                              8MP\n",
       "Back_Camera                               8MP\n",
       "Processor                         Unisoc T612\n",
       "Battery_Capacity_mAh                     8200\n",
       "Screen_Size_Inches                      10.4 \n",
       "Launched_Price_in_Pakistan_USD            187\n",
       "Launched_Price_in_India_USD               215\n",
       "Launched_Price_in_China_USD               187\n",
       "Launched_Price_in_Dubai_USD               234\n",
       "Launched_Price_in_USA_USD                 240\n",
       "Launched_Year                            2022\n",
       "Encoded_Processor                         212\n",
       "Encoded_FC                                 26\n",
       "Encoded _BC                                89\n",
       "Encoded_Screen_Size                         2\n",
       "Name: 391, dtype: object"
      ]
     },
     "execution_count": 157,
     "metadata": {},
     "output_type": "execute_result"
    }
   ],
   "source": [
    "Data.loc[391]"
   ]
  },
  {
   "cell_type": "code",
   "execution_count": 158,
   "metadata": {},
   "outputs": [
    {
     "data": {
      "image/png": "[encoded data removed]",
      "text/plain": [
       "<Figure size 640x480 with 1 Axes>"
      ]
     },
     "metadata": {},
     "output_type": "display_data"
    }
   ],
   "source": [
    "sns.boxplot(Data[\"Launched_Price_in_USA_USD\"])\n",
    "plt.show()"
   ]
  },
  {
   "cell_type": "code",
   "execution_count": 159,
   "metadata": {},
   "outputs": [
    {
     "data": {
      "text/html": [
       "<div>\n",
       "<style scoped>\n",
       "    .dataframe tbody tr th:only-of-type {\n",
       "        vertical-align: middle;\n",
       "    }\n",
       "\n",
       "    .dataframe tbody tr th {\n",
       "        vertical-align: top;\n",
       "    }\n",
       "\n",
       "    .dataframe thead th {\n",
       "        text-align: right;\n",
       "    }\n",
       "</style>\n",
       "<table border=\"1\" class=\"dataframe\">\n",
       "  <thead>\n",
       "    <tr style=\"text-align: right;\">\n",
       "      <th></th>\n",
       "      <th>Mobile_Weight_Grams</th>\n",
       "      <th>RAM_GB</th>\n",
       "      <th>Battery_Capacity_mAh</th>\n",
       "      <th>Launched_Price_in_Pakistan_USD</th>\n",
       "      <th>Launched_Price_in_India_USD</th>\n",
       "      <th>Launched_Price_in_China_USD</th>\n",
       "      <th>Launched_Price_in_Dubai_USD</th>\n",
       "      <th>Launched_Price_in_USA_USD</th>\n",
       "      <th>Launched_Year</th>\n",
       "      <th>Encoded_Processor</th>\n",
       "      <th>Encoded_FC</th>\n",
       "      <th>Encoded _BC</th>\n",
       "      <th>Encoded_Screen_Size</th>\n",
       "    </tr>\n",
       "  </thead>\n",
       "  <tbody>\n",
       "    <tr>\n",
       "      <th>count</th>\n",
       "      <td>915.000000</td>\n",
       "      <td>915.000000</td>\n",
       "      <td>915.000000</td>\n",
       "      <td>915.000000</td>\n",
       "      <td>915.000000</td>\n",
       "      <td>915.000000</td>\n",
       "      <td>915.000000</td>\n",
       "      <td>915.000000</td>\n",
       "      <td>915.000000</td>\n",
       "      <td>915.000000</td>\n",
       "      <td>915.000000</td>\n",
       "      <td>915.000000</td>\n",
       "      <td>915.000000</td>\n",
       "    </tr>\n",
       "    <tr>\n",
       "      <th>mean</th>\n",
       "      <td>228.910383</td>\n",
       "      <td>9.545355</td>\n",
       "      <td>5030.280874</td>\n",
       "      <td>456.807650</td>\n",
       "      <td>611.884153</td>\n",
       "      <td>577.333333</td>\n",
       "      <td>593.293989</td>\n",
       "      <td>588.655738</td>\n",
       "      <td>2022.205464</td>\n",
       "      <td>105.925683</td>\n",
       "      <td>15.003279</td>\n",
       "      <td>44.784699</td>\n",
       "      <td>53.853552</td>\n",
       "    </tr>\n",
       "    <tr>\n",
       "      <th>std</th>\n",
       "      <td>106.164722</td>\n",
       "      <td>37.713809</td>\n",
       "      <td>1365.571834</td>\n",
       "      <td>372.395678</td>\n",
       "      <td>493.266138</td>\n",
       "      <td>416.386242</td>\n",
       "      <td>424.642692</td>\n",
       "      <td>422.260980</td>\n",
       "      <td>1.869182</td>\n",
       "      <td>67.672326</td>\n",
       "      <td>7.167349</td>\n",
       "      <td>27.541268</td>\n",
       "      <td>20.268341</td>\n",
       "    </tr>\n",
       "    <tr>\n",
       "      <th>min</th>\n",
       "      <td>135.000000</td>\n",
       "      <td>1.000000</td>\n",
       "      <td>2000.000000</td>\n",
       "      <td>57.000000</td>\n",
       "      <td>71.000000</td>\n",
       "      <td>74.000000</td>\n",
       "      <td>80.000000</td>\n",
       "      <td>79.000000</td>\n",
       "      <td>2014.000000</td>\n",
       "      <td>0.000000</td>\n",
       "      <td>0.000000</td>\n",
       "      <td>0.000000</td>\n",
       "      <td>0.000000</td>\n",
       "    </tr>\n",
       "    <tr>\n",
       "      <th>25%</th>\n",
       "      <td>185.000000</td>\n",
       "      <td>6.000000</td>\n",
       "      <td>4400.000000</td>\n",
       "      <td>197.000000</td>\n",
       "      <td>239.000000</td>\n",
       "      <td>269.000000</td>\n",
       "      <td>270.000000</td>\n",
       "      <td>269.000000</td>\n",
       "      <td>2021.000000</td>\n",
       "      <td>47.000000</td>\n",
       "      <td>10.000000</td>\n",
       "      <td>15.500000</td>\n",
       "      <td>46.000000</td>\n",
       "    </tr>\n",
       "    <tr>\n",
       "      <th>50%</th>\n",
       "      <td>195.000000</td>\n",
       "      <td>8.000000</td>\n",
       "      <td>5000.000000</td>\n",
       "      <td>323.000000</td>\n",
       "      <td>431.000000</td>\n",
       "      <td>435.000000</td>\n",
       "      <td>458.000000</td>\n",
       "      <td>449.000000</td>\n",
       "      <td>2023.000000</td>\n",
       "      <td>98.000000</td>\n",
       "      <td>16.000000</td>\n",
       "      <td>46.000000</td>\n",
       "      <td>60.000000</td>\n",
       "    </tr>\n",
       "    <tr>\n",
       "      <th>75%</th>\n",
       "      <td>209.000000</td>\n",
       "      <td>8.000000</td>\n",
       "      <td>5100.000000</td>\n",
       "      <td>647.000000</td>\n",
       "      <td>899.000000</td>\n",
       "      <td>824.000000</td>\n",
       "      <td>863.000000</td>\n",
       "      <td>849.000000</td>\n",
       "      <td>2024.000000</td>\n",
       "      <td>175.000000</td>\n",
       "      <td>21.000000</td>\n",
       "      <td>71.000000</td>\n",
       "      <td>64.500000</td>\n",
       "    </tr>\n",
       "    <tr>\n",
       "      <th>max</th>\n",
       "      <td>732.000000</td>\n",
       "      <td>812.000000</td>\n",
       "      <td>11200.000000</td>\n",
       "      <td>2340.000000</td>\n",
       "      <td>3299.000000</td>\n",
       "      <td>2699.000000</td>\n",
       "      <td>2996.000000</td>\n",
       "      <td>2799.000000</td>\n",
       "      <td>2025.000000</td>\n",
       "      <td>216.000000</td>\n",
       "      <td>28.000000</td>\n",
       "      <td>90.000000</td>\n",
       "      <td>96.000000</td>\n",
       "    </tr>\n",
       "  </tbody>\n",
       "</table>\n",
       "</div>"
      ],
      "text/plain": [
       "       Mobile_Weight_Grams      RAM_GB  Battery_Capacity_mAh  \\\n",
       "count           915.000000  915.000000            915.000000   \n",
       "mean            228.910383    9.545355           5030.280874   \n",
       "std             106.164722   37.713809           1365.571834   \n",
       "min             135.000000    1.000000           2000.000000   \n",
       "25%             185.000000    6.000000           4400.000000   \n",
       "50%             195.000000    8.000000           5000.000000   \n",
       "75%             209.000000    8.000000           5100.000000   \n",
       "max             732.000000  812.000000          11200.000000   \n",
       "\n",
       "       Launched_Price_in_Pakistan_USD  Launched_Price_in_India_USD  \\\n",
       "count                      915.000000                   915.000000   \n",
       "mean                       456.807650                   611.884153   \n",
       "std                        372.395678                   493.266138   \n",
       "min                         57.000000                    71.000000   \n",
       "25%                        197.000000                   239.000000   \n",
       "50%                        323.000000                   431.000000   \n",
       "75%                        647.000000                   899.000000   \n",
       "max                       2340.000000                  3299.000000   \n",
       "\n",
       "       Launched_Price_in_China_USD  Launched_Price_in_Dubai_USD  \\\n",
       "count                   915.000000                   915.000000   \n",
       "mean                    577.333333                   593.293989   \n",
       "std                     416.386242                   424.642692   \n",
       "min                      74.000000                    80.000000   \n",
       "25%                     269.000000                   270.000000   \n",
       "50%                     435.000000                   458.000000   \n",
       "75%                     824.000000                   863.000000   \n",
       "max                    2699.000000                  2996.000000   \n",
       "\n",
       "       Launched_Price_in_USA_USD  Launched_Year  Encoded_Processor  \\\n",
       "count                 915.000000     915.000000         915.000000   \n",
       "mean                  588.655738    2022.205464         105.925683   \n",
       "std                   422.260980       1.869182          67.672326   \n",
       "min                    79.000000    2014.000000           0.000000   \n",
       "25%                   269.000000    2021.000000          47.000000   \n",
       "50%                   449.000000    2023.000000          98.000000   \n",
       "75%                   849.000000    2024.000000         175.000000   \n",
       "max                  2799.000000    2025.000000         216.000000   \n",
       "\n",
       "       Encoded_FC  Encoded _BC  Encoded_Screen_Size  \n",
       "count  915.000000   915.000000           915.000000  \n",
       "mean    15.003279    44.784699            53.853552  \n",
       "std      7.167349    27.541268            20.268341  \n",
       "min      0.000000     0.000000             0.000000  \n",
       "25%     10.000000    15.500000            46.000000  \n",
       "50%     16.000000    46.000000            60.000000  \n",
       "75%     21.000000    71.000000            64.500000  \n",
       "max     28.000000    90.000000            96.000000  "
      ]
     },
     "execution_count": 159,
     "metadata": {},
     "output_type": "execute_result"
    }
   ],
   "source": [
    "Data.describe()"
   ]
  },
  {
   "cell_type": "markdown",
   "metadata": {},
   "source": [
    "Exportation."
   ]
  },
  {
   "cell_type": "code",
   "execution_count": null,
   "metadata": {},
   "outputs": [],
   "source": [
    "# New_Data = Data.to_csv(r\"C:\\Users\\Mady Ibrahim\\Desktop\\Mobile Dataset Analysis\\Cleaned Mobiles Dataset (2025).csv\",index = False)\n",
    "# x = Data[Data[\"Launched_Year\"] == 2024]\n",
    "# c = Data[[\"Company_Name\",\"Launched_Price_in_Pakistan_USD\",\"Launched_Year\"]]\n",
    "# z = c[c[\"Launched_Year\"] == 2024].groupby(\"Company_Name\")[\"Launched_Price_in_Pakistan_USD\"].mean().sort_values().head(17)\n",
    "# z\n",
    "# Data[(Data[\"Launched_Year\"] == 2025) & (Data[\"Company_Name\"] == \"Oppo\")].count()"
   ]
  }
 ],
 "metadata": {
  "kernelspec": {
   "display_name": "Python 3",
   "language": "python",
   "name": "python3"
  },
  "language_info": {
   "codemirror_mode": {
    "name": "ipython",
    "version": 3
   },
   "file_extension": ".py",
   "mimetype": "text/x-python",
   "name": "python",
   "nbconvert_exporter": "python",
   "pygments_lexer": "ipython3",
   "version": "3.11.4"
  }
 },
 "nbformat": 4,
 "nbformat_minor": 2
}
